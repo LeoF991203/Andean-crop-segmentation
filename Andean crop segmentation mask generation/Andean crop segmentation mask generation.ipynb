{
 "cells": [
  {
   "cell_type": "markdown",
   "id": "d6b81172",
   "metadata": {},
   "source": [
    "# 1. Imports and setup"
   ]
  },
  {
   "cell_type": "code",
   "execution_count": 34,
   "id": "47d8878c",
   "metadata": {},
   "outputs": [
    {
     "data": {
      "text/plain": [
       "<torch._C.Generator at 0x1bb0b8b90b0>"
      ]
     },
     "execution_count": 34,
     "metadata": {},
     "output_type": "execute_result"
    }
   ],
   "source": [
    "#Import libraries\n",
    "\n",
    "import matplotlib.pyplot as plt\n",
    "import rasterio\n",
    "from rasterio import plot\n",
    "from rasterio.plot import show\n",
    "from rasterio.windows import Window\n",
    "from rasterio.transform import Affine\n",
    "from PIL import Image, ImageDraw\n",
    "import numpy as np\n",
    "import os\n",
    "import torch\n",
    "import torch.nn as nn\n",
    "import json\n",
    "import xarray as xr\n",
    "import rioxarray as rio\n",
    "import cv2\n",
    "\n",
    "torch.random.manual_seed(0)"
   ]
  },
  {
   "cell_type": "code",
   "execution_count": 2,
   "id": "e836bd9e",
   "metadata": {},
   "outputs": [
    {
     "name": "stdout",
     "output_type": "stream",
     "text": [
      "Thu May 15 15:55:53 2025       \n",
      "+---------------------------------------------------------------------------------------+\n",
      "| NVIDIA-SMI 546.80                 Driver Version: 546.80       CUDA Version: 12.3     |\n",
      "|-----------------------------------------+----------------------+----------------------+\n",
      "| GPU  Name                     TCC/WDDM  | Bus-Id        Disp.A | Volatile Uncorr. ECC |\n",
      "| Fan  Temp   Perf          Pwr:Usage/Cap |         Memory-Usage | GPU-Util  Compute M. |\n",
      "|                                         |                      |               MIG M. |\n",
      "|=========================================+======================+======================|\n",
      "|   0  NVIDIA GeForce RTX 3080 ...  WDDM  | 00000000:01:00.0 Off |                  N/A |\n",
      "| N/A   60C    P8              13W / 120W |      0MiB / 16384MiB |      0%      Default |\n",
      "|                                         |                      |                  N/A |\n",
      "+-----------------------------------------+----------------------+----------------------+\n",
      "                                                                                         \n",
      "+---------------------------------------------------------------------------------------+\n",
      "| Processes:                                                                            |\n",
      "|  GPU   GI   CI        PID   Type   Process name                            GPU Memory |\n",
      "|        ID   ID                                                             Usage      |\n",
      "|=======================================================================================|\n",
      "|  No running processes found                                                           |\n",
      "+---------------------------------------------------------------------------------------+\n"
     ]
    }
   ],
   "source": [
    "!nvidia-smi"
   ]
  },
  {
   "cell_type": "markdown",
   "id": "8e6841e8",
   "metadata": {},
   "source": [
    "# 2. Convertion from files to desired input files"
   ]
  },
  {
   "cell_type": "markdown",
   "id": "e6dcdc6f",
   "metadata": {},
   "source": [
    "## 2.1 Json to binary mask"
   ]
  },
  {
   "cell_type": "code",
   "execution_count": 36,
   "id": "ae4afc33",
   "metadata": {},
   "outputs": [],
   "source": [
    "inputDir = \"C:\\\\Users\\\\Leonardo\\\\Documents\\\\Tesis\\\\Tesis2\\\\Imagenes\\\\Img\\\\MasksToPNGMasks\"\n",
    "mainOutput = \"C:\\\\Users\\\\Leonardo\\\\Documents\\\\Tesis\\\\Tesis2\\\\Imagenes\\\\Img\\\\MasksOutput\""
   ]
  },
  {
   "cell_type": "code",
   "execution_count": 38,
   "id": "0149393f",
   "metadata": {},
   "outputs": [],
   "source": [
    "def json_to_mask(json_path, output_dir):\n",
    "    with open(json_path, 'r') as f:\n",
    "        data = json.load(f)\n",
    "\n",
    "    image_width = data.get('imageWidth')\n",
    "    image_height = data.get('imageHeight')\n",
    "    if image_width is None or image_height is None:\n",
    "        raise ValueError(\"Las dimensiones de la imagen no están especificadas en el archivo JSON.\")\n",
    "\n",
    "    mask = Image.new('L', (image_width, image_height), 0)\n",
    "    draw = ImageDraw.Draw(mask)\n",
    "\n",
    "    for shape in data['shapes']:\n",
    "        if (shape['label'] == \"cropArea\") or (shape['label'] == \"CropArea\"):\n",
    "            points = shape['points']\n",
    "            points_int = [(int(x), int(y)) for x, y in points]\n",
    "            draw.polygon(points_int, outline=255, fill=255)\n",
    "\n",
    "    # Obtener el nombre base del archivo JSON sin extensión\n",
    "    base_name = os.path.splitext(os.path.basename(json_path))[0]\n",
    "    # Crear el nombre del archivo de salida con el sufijo \"_m.png\"\n",
    "    output_filename = f\"{base_name}_m.png\"\n",
    "    # Unir la ruta del directorio de salida con el nombre del archivo\n",
    "    output_path = os.path.join(output_dir, output_filename)\n",
    "\n",
    "    # Guardar la máscara como imagen PNG\n",
    "    mask.save(output_path)"
   ]
  },
  {
   "cell_type": "code",
   "execution_count": 39,
   "id": "626cb8da",
   "metadata": {},
   "outputs": [],
   "source": [
    "# Loop through all .tif files in input_dir\n",
    "for file in os.listdir(inputDir):\n",
    "    jsonPath = os.path.join(inputDir, file)\n",
    "    # Call the custom function to generate tiles and PNGs\n",
    "    json_to_mask(jsonPath, mainOutput)"
   ]
  },
  {
   "cell_type": "markdown",
   "id": "76fce3ed",
   "metadata": {},
   "source": [
    "## 2.2 Process files from AI4boundaries Dataset"
   ]
  },
  {
   "cell_type": "markdown",
   "id": "c9c51172",
   "metadata": {},
   "source": [
    "From nc in date 6 (early Northern Hemisphere autumn), to single image"
   ]
  },
  {
   "cell_type": "code",
   "execution_count": 68,
   "id": "ecc576c0",
   "metadata": {},
   "outputs": [],
   "source": [
    "inputTestDS = \"C:\\\\Users\\\\Leonardo\\\\Documents\\\\Tesis\\\\Tesis2\\\\Imagenes\\\\AI4boundaries\\\\test\\\\TestToProcess\"\n",
    "OutputTestDS = \"C:\\\\Users\\\\Leonardo\\\\Documents\\\\Tesis\\\\Tesis2\\\\Imagenes\\\\AI4boundaries\\\\test\\\\TestProcessed\""
   ]
  },
  {
   "cell_type": "code",
   "execution_count": 69,
   "id": "c30865e3",
   "metadata": {},
   "outputs": [],
   "source": [
    "#Solo se usan las imagenes de AT, NL y SI de AI4boundaries\n",
    "\n",
    "def procesar_nc_a_tif(input_dir, output_dir):\n",
    "    os.makedirs(output_dir, exist_ok=True)\n",
    "\n",
    "    for archivo in os.listdir(input_dir):\n",
    "        if archivo.endswith(\".nc\"):\n",
    "            ruta_nc = os.path.join(input_dir, archivo)\n",
    "            nombre_base = os.path.splitext(archivo)[0]\n",
    "            ruta_tif = os.path.join(output_dir, f\"{nombre_base}.tif\")\n",
    "\n",
    "            ds = xr.open_dataset(ruta_nc, decode_coords=\"all\")\n",
    "\n",
    "            # Seleccionar la primera fecha\n",
    "            ds_fecha0 = ds.isel(time=5)\n",
    "\n",
    "            # Establecer las dimensiones espaciales\n",
    "            ds_fecha0 = ds_fecha0.rio.set_spatial_dims(x_dim=\"x\", y_dim=\"y\", inplace=False)\n",
    "\n",
    "            # Verificar si el CRS está presente\n",
    "            if ds_fecha0.rio.crs is None:\n",
    "                print(f\"Advertencia: CRS no definido en {archivo}. Estableciendo CRS manualmente.\")\n",
    "                ds_fecha0 = ds_fecha0.rio.write_crs(\"EPSG:4326\", inplace=False)\n",
    "\n",
    "            # Eliminar el atributo 'grid_mapping' si existe\n",
    "            for var in ds_fecha0.data_vars:\n",
    "                if 'grid_mapping' in ds_fecha0[var].attrs:\n",
    "                    del ds_fecha0[var].attrs['grid_mapping']\n",
    "\n",
    "            # Seleccionar las bandas deseadas\n",
    "            bandas = ['B4', 'B3', 'B2', 'B8', 'NDVI']  # Rojo, Verde, Azul, NIR, NDVI\n",
    "            bandas_disponibles = [banda for banda in bandas if banda in ds_fecha0.variables]\n",
    "\n",
    "            if not bandas_disponibles:\n",
    "                print(f\"No se encontraron las bandas especificadas en {archivo}.\")\n",
    "                continue\n",
    "\n",
    "            # Crear una lista de DataArrays para las bandas seleccionadas\n",
    "            dataarrays = []\n",
    "            for banda in bandas_disponibles:\n",
    "                da = ds_fecha0[banda]\n",
    "                dataarrays.append(da)\n",
    "\n",
    "            # Combinar las bandas en un solo DataArray multibanda\n",
    "            da_combinado = xr.concat(dataarrays, dim=\"band\")\n",
    "\n",
    "            # Guardar como GeoTIFF\n",
    "            da_combinado.rio.to_raster(ruta_tif)\n"
   ]
  },
  {
   "cell_type": "code",
   "execution_count": null,
   "id": "d78d82f8",
   "metadata": {},
   "outputs": [],
   "source": [
    "procesar_nc_a_tif(inputTestDS, OutputTestDS)"
   ]
  },
  {
   "cell_type": "markdown",
   "id": "da2929e9",
   "metadata": {},
   "source": [
    "De imagen en tamaño 256 por 256, a 512 por 512"
   ]
  },
  {
   "cell_type": "code",
   "execution_count": 71,
   "id": "ece3a815",
   "metadata": {},
   "outputs": [],
   "source": [
    "# 256 a 512\n",
    "from skimage.transform import resize\n",
    "from skimage.util import img_as_uint\n",
    "\n",
    "def escalar_tiff_uint16(carpeta_entrada, carpeta_salida):\n",
    "    os.makedirs(carpeta_salida, exist_ok=True)\n",
    "\n",
    "    for nombre_archivo in os.listdir(carpeta_entrada):\n",
    "        if nombre_archivo.lower().endswith((\".tif\", \".tiff\")):\n",
    "            ruta_entrada = os.path.join(carpeta_entrada, nombre_archivo)\n",
    "            nombre_base = os.path.splitext(nombre_archivo)[0]\n",
    "            ruta_salida = os.path.join(carpeta_salida, f\"{nombre_base}_512.tif\")\n",
    "\n",
    "            with rasterio.open(ruta_entrada) as src:\n",
    "                # Leer todas las bandas\n",
    "                bandas = src.read()\n",
    "                num_bandas, altura, anchura = bandas.shape\n",
    "                \n",
    "                # Redimensionar cada banda\n",
    "                bandas_redimensionadas = np.empty((num_bandas, 512, 512), dtype=np.uint16)\n",
    "                for i in range(num_bandas):\n",
    "                    banda = bandas[i]\n",
    "                    banda = banda.astype(np.float32)\n",
    "                    banda = np.nan_to_num(banda, nan=0.0, posinf=0.0, neginf=0.0)\n",
    "\n",
    "                    # Reemplazar valores < 0 por 0\n",
    "                    banda[banda < 0] = 0\n",
    "\n",
    "                    # Normalizar la banda a rango [0, 1] para resize\n",
    "                    banda_normalizada = banda / 65535.0\n",
    "                    banda_redimensionada = resize(\n",
    "                        banda_normalizada,\n",
    "                        (512, 512),\n",
    "                        mode='reflect',\n",
    "                        anti_aliasing=True\n",
    "                    )\n",
    "                    # Convertir de nuevo a uint16\n",
    "                    bandas_redimensionadas[i] = img_as_uint(banda_redimensionada)\n",
    "\n",
    "                # Crear perfil para el nuevo archivo\n",
    "                perfil = src.profile\n",
    "                perfil.update({\n",
    "                    'driver': 'GTiff',\n",
    "                    'count': num_bandas,\n",
    "                    'dtype': 'uint16',\n",
    "                    'width': 512,\n",
    "                    'height': 512,\n",
    "                    'nodata': 0,\n",
    "                    'transform': rasterio.transform.from_origin(\n",
    "                        src.transform.c,  # x origin\n",
    "                        src.transform.f,  # y origin\n",
    "                        src.transform.a * (anchura / 512),  # pixel width\n",
    "                        src.transform.e * (altura / 512)   # pixel height\n",
    "                    )\n",
    "                })\n",
    "\n",
    "                # Guardar la imagen redimensionada\n",
    "                with rasterio.open(ruta_salida, 'w', **perfil) as dst:\n",
    "                    dst.write(bandas_redimensionadas)\n"
   ]
  },
  {
   "cell_type": "code",
   "execution_count": 72,
   "id": "fdb598de",
   "metadata": {},
   "outputs": [],
   "source": [
    "carpeta_entrada = \"C:\\\\Users\\\\Leonardo\\\\Documents\\\\Tesis\\\\Tesis2\\\\Imagenes\\\\AI4boundaries\\\\test\\\\TestProcessed\"\n",
    "carpeta_salida = \"C:\\\\Users\\\\Leonardo\\\\Documents\\\\Tesis\\\\Tesis2\\\\Imagenes\\\\AI4boundaries\\\\test\\\\Test256To512\"\n",
    "escalar_tiff_uint16(carpeta_entrada, carpeta_salida)"
   ]
  },
  {
   "cell_type": "markdown",
   "id": "b2981262",
   "metadata": {},
   "source": [
    "Máscara binaria para archivos tiff en las máscaras (tambien, otro reescalado previo, imputando valores bajos y NaNs)"
   ]
  },
  {
   "cell_type": "code",
   "execution_count": 83,
   "id": "69d31208",
   "metadata": {},
   "outputs": [],
   "source": [
    "def convertir_tiff_a_mascara_binaria(carpeta_entrada, carpeta_salida, umbral=127):\n",
    "    os.makedirs(carpeta_salida, exist_ok=True)\n",
    "\n",
    "    for nombre in os.listdir(carpeta_entrada):\n",
    "        if nombre.lower().endswith((\".tif\", \".tiff\")):\n",
    "            ruta_tif = os.path.join(carpeta_entrada, nombre)\n",
    "            nombre_salida = os.path.splitext(nombre)[0] + \"_m.png\"\n",
    "            ruta_png = os.path.join(carpeta_salida, nombre_salida)\n",
    "\n",
    "            with rasterio.open(ruta_tif) as src:\n",
    "                banda = src.read(1)  # Solo primera banda\n",
    "\n",
    "                # Convertir en máscara binaria: valores > umbral a blanco (255), el resto negro (0)\n",
    "                mascara = np.where(banda > umbral, 255, 0).astype(np.uint8)\n",
    "\n",
    "                # Guardar como PNG\n",
    "                Image.fromarray(mascara).save(ruta_png)\n"
   ]
  },
  {
   "cell_type": "code",
   "execution_count": 73,
   "id": "03a703c7",
   "metadata": {},
   "outputs": [],
   "source": [
    "carpeta_entrada = \"C:\\\\Users\\\\Leonardo\\\\Documents\\\\Tesis\\\\Tesis2\\\\Imagenes\\\\AI4boundaries\\\\masks\\\\TestMasksToProcess\"\n",
    "carpeta_salida1 = \"C:\\\\Users\\\\Leonardo\\\\Documents\\\\Tesis\\\\Tesis2\\\\Imagenes\\\\AI4boundaries\\\\masks\\\\TestMasks256To512\"\n",
    "carpeta_salida2 = \"C:\\\\Users\\\\Leonardo\\\\Documents\\\\Tesis\\\\Tesis2\\\\Imagenes\\\\AI4boundaries\\\\masks\\\\TestMasksProcessed\""
   ]
  },
  {
   "cell_type": "code",
   "execution_count": 77,
   "id": "72723def",
   "metadata": {},
   "outputs": [],
   "source": [
    "def escalar_tiff_uint16_2(carpeta_entrada, carpeta_salida):\n",
    "    os.makedirs(carpeta_salida, exist_ok=True)\n",
    "\n",
    "    for nombre_archivo in os.listdir(carpeta_entrada):\n",
    "        if nombre_archivo.lower().endswith((\".tif\", \".tiff\")):\n",
    "            ruta_entrada = os.path.join(carpeta_entrada, nombre_archivo)\n",
    "            nombre_base = os.path.splitext(nombre_archivo)[0]\n",
    "            ruta_salida = os.path.join(carpeta_salida, f\"{nombre_base}_512.tif\")\n",
    "\n",
    "            with rasterio.open(ruta_entrada) as src:\n",
    "                bandas = src.read()\n",
    "                num_bandas, altura, anchura = bandas.shape\n",
    "                \n",
    "                bandas_redimensionadas = np.empty((num_bandas, 512, 512), dtype=np.uint16)\n",
    "\n",
    "                for i in range(num_bandas):\n",
    "                    banda = bandas[i].astype(np.float32)\n",
    "\n",
    "                    # Imputar 0 en NaN o valores vacíos\n",
    "                    banda = np.nan_to_num(banda, nan=0.0)\n",
    "\n",
    "                    # Recorte entre percentiles 2 y 98\n",
    "                    p2, p98 = np.percentile(banda, (2, 98))\n",
    "                    banda = np.clip(banda, p2, p98)\n",
    "\n",
    "                    # Normalizar entre 0 y 1\n",
    "                    rango = p98 - p2\n",
    "                    if rango == 0:\n",
    "                        banda_norm = np.zeros_like(banda)\n",
    "                    else:\n",
    "                        banda_norm = (banda - p2) / rango\n",
    "\n",
    "                    # Redimensionar\n",
    "                    banda_redim = resize(\n",
    "                        banda_norm,\n",
    "                        (512, 512),\n",
    "                        mode='reflect',\n",
    "                        anti_aliasing=True\n",
    "                    )\n",
    "\n",
    "                    # Convertir a uint16\n",
    "                    banda_uint16 = np.clip(banda_redim * 65535, 0, 65535).astype(np.uint16)\n",
    "                    bandas_redimensionadas[i] = banda_uint16\n",
    "\n",
    "                perfil = src.profile\n",
    "                perfil.update({\n",
    "                    'driver': 'GTiff',\n",
    "                    'count': num_bandas,\n",
    "                    'dtype': 'uint16',\n",
    "                    'width': 512,\n",
    "                    'height': 512,\n",
    "                    'nodata': 0,\n",
    "                    'transform': rasterio.transform.from_origin(\n",
    "                        src.transform.c,\n",
    "                        src.transform.f,\n",
    "                        src.transform.a * (anchura / 512),\n",
    "                        src.transform.e * (altura / 512)\n",
    "                    )\n",
    "                })\n",
    "\n",
    "                with rasterio.open(ruta_salida, 'w', **perfil) as dst:\n",
    "                    dst.write(bandas_redimensionadas)"
   ]
  },
  {
   "cell_type": "code",
   "execution_count": 78,
   "id": "043725a9",
   "metadata": {},
   "outputs": [],
   "source": [
    "escalar_tiff_uint16_2(carpeta_entrada, carpeta_salida1)"
   ]
  },
  {
   "cell_type": "code",
   "execution_count": 84,
   "id": "c7060163",
   "metadata": {},
   "outputs": [],
   "source": [
    "convertir_tiff_a_mascara_binaria(carpeta_salida1, carpeta_salida2, umbral=0)"
   ]
  }
 ],
 "metadata": {
  "kernelspec": {
   "display_name": "tesis_remotesensing_egpu",
   "language": "python",
   "name": "python3"
  },
  "language_info": {
   "codemirror_mode": {
    "name": "ipython",
    "version": 3
   },
   "file_extension": ".py",
   "mimetype": "text/x-python",
   "name": "python",
   "nbconvert_exporter": "python",
   "pygments_lexer": "ipython3",
   "version": "3.9.16"
  }
 },
 "nbformat": 4,
 "nbformat_minor": 5
}
