{
 "cells": [
  {
   "cell_type": "markdown",
   "id": "d6b81172",
   "metadata": {},
   "source": [
    "# 1. Imports and setup"
   ]
  },
  {
   "cell_type": "code",
   "execution_count": 1,
   "id": "47d8878c",
   "metadata": {},
   "outputs": [
    {
     "data": {
      "text/plain": [
       "<torch._C.Generator at 0x1a9770b8d70>"
      ]
     },
     "execution_count": 1,
     "metadata": {},
     "output_type": "execute_result"
    }
   ],
   "source": [
    "#Import libraries\n",
    "\n",
    "import matplotlib.pyplot as plt\n",
    "import rasterio\n",
    "from rasterio import plot\n",
    "from rasterio.plot import show\n",
    "from rasterio.windows import Window\n",
    "from rasterio.transform import Affine\n",
    "from PIL import Image\n",
    "import numpy as np\n",
    "import os\n",
    "import torch\n",
    "import math\n",
    "import torch.nn as nn\n",
    "\n",
    "torch.random.manual_seed(0)"
   ]
  },
  {
   "cell_type": "code",
   "execution_count": 2,
   "id": "e836bd9e",
   "metadata": {},
   "outputs": [
    {
     "name": "stdout",
     "output_type": "stream",
     "text": [
      "Mon May  5 10:44:49 2025       \n",
      "+---------------------------------------------------------------------------------------+\n",
      "| NVIDIA-SMI 546.80                 Driver Version: 546.80       CUDA Version: 12.3     |\n",
      "|-----------------------------------------+----------------------+----------------------+\n",
      "| GPU  Name                     TCC/WDDM  | Bus-Id        Disp.A | Volatile Uncorr. ECC |\n",
      "| Fan  Temp   Perf          Pwr:Usage/Cap |         Memory-Usage | GPU-Util  Compute M. |\n",
      "|                                         |                      |               MIG M. |\n",
      "|=========================================+======================+======================|\n",
      "|   0  NVIDIA GeForce RTX 3080 ...  WDDM  | 00000000:01:00.0 Off |                  N/A |\n",
      "| N/A   57C    P8              11W / 120W |      0MiB / 16384MiB |      0%      Default |\n",
      "|                                         |                      |                  N/A |\n",
      "+-----------------------------------------+----------------------+----------------------+\n",
      "                                                                                         \n",
      "+---------------------------------------------------------------------------------------+\n",
      "| Processes:                                                                            |\n",
      "|  GPU   GI   CI        PID   Type   Process name                            GPU Memory |\n",
      "|        ID   ID                                                             Usage      |\n",
      "|=======================================================================================|\n",
      "|  No running processes found                                                           |\n",
      "+---------------------------------------------------------------------------------------+\n"
     ]
    }
   ],
   "source": [
    "!nvidia-smi"
   ]
  },
  {
   "cell_type": "markdown",
   "id": "8e6841e8",
   "metadata": {},
   "source": [
    "# 2. Preprocessing of images"
   ]
  },
  {
   "cell_type": "markdown",
   "id": "8be24d63",
   "metadata": {},
   "source": [
    "## 2.1. Cropping the splits"
   ]
  },
  {
   "cell_type": "markdown",
   "id": "f4b7f244",
   "metadata": {},
   "source": [
    "Geotiff images will be split in 512 by 512 tiles and PNGs"
   ]
  },
  {
   "cell_type": "code",
   "execution_count": null,
   "id": "6c5bd774",
   "metadata": {},
   "outputs": [],
   "source": [
    "def pad_array(array, target_height, target_width):\n",
    "    bands, height, width = array.shape\n",
    "    padded = np.zeros((bands, target_height, target_width), dtype=array.dtype)\n",
    "    padded[:, :height, :width] = array\n",
    "    return padded\n",
    "\n",
    "def normalize(array):\n",
    "    array_min, array_max = array.min(), array.max()\n",
    "    if array_max - array_min == 0:\n",
    "        return np.zeros_like(array, dtype=np.uint8)\n",
    "    return ((array - array_min) / (array_max - array_min) * 255).astype(np.uint8)\n",
    "\n",
    "def split_geotiff_with_padding(input_dir, filename, output_dir):\n",
    "    tile_size=512\n",
    "    os.makedirs(output_dir, exist_ok=True)\n",
    "    png_dir = os.path.join(output_dir, \"png\")\n",
    "    os.makedirs(png_dir, exist_ok=True)\n",
    "    input_path = os.path.join(input_dir, filename)\n",
    "\n",
    "    with rasterio.open(input_path) as src:\n",
    "        width, height = src.width, src.height\n",
    "        profile = src.profile\n",
    "\n",
    "        for i in range(0, height, tile_size):\n",
    "            for j in range(0, width, tile_size):\n",
    "                window_height = min(tile_size, height - i)\n",
    "                window_width = min(tile_size, width - j)\n",
    "                window = Window(j, i, window_width, window_height)\n",
    "                transform = src.window_transform(window)\n",
    "                tile = src.read(window=window)\n",
    "\n",
    "                if window_height < tile_size or window_width < tile_size:\n",
    "                    tile = pad_array(tile, tile_size, tile_size)\n",
    "\n",
    "                tile_profile = profile.copy()\n",
    "                tile_profile.update({\n",
    "                    'height': tile_size,\n",
    "                    'width': tile_size,\n",
    "                    'transform': transform\n",
    "                })\n",
    "\n",
    "                base_filename = os.path.splitext(filename)[0]\n",
    "                tile_filename = f\"{base_filename}_tile_{i // 512}_{j // 512}_p.tif\"\n",
    "                tile_path = os.path.join(output_dir, tile_filename)\n",
    "\n",
    "                with rasterio.open(tile_path, 'w', **tile_profile) as dst:\n",
    "                    dst.write(tile)\n",
    "\n",
    "                # Generate PNG RGB\n",
    "                if tile.shape[0] >= 3:\n",
    "                    rgb = tile[:3]\n",
    "                    rgb = normalize(rgb)\n",
    "                    rgb = np.transpose(rgb, (1, 2, 0))  # Reorder to (H, W, Bands)\n",
    "                    png_filename = f\"{base_filename}_tile_{i//512}_{j//512}.png\"\n",
    "                    png_path = os.path.join(png_dir, png_filename)\n",
    "                    Image.fromarray(rgb).save(png_path)\n"
   ]
  },
  {
   "cell_type": "code",
   "execution_count": 21,
   "id": "ae4afc33",
   "metadata": {},
   "outputs": [],
   "source": [
    "input_dir = \"C:\\\\Users\\\\Leonardo\\\\Documents\\\\Tesis\\\\Tesis2\\\\Imagenes\\\\Img\\\\input\"\n",
    "out_dir_allfiles = \"C:\\\\Users\\\\Leonardo\\\\Documents\\\\Tesis\\\\Tesis2\\\\Imagenes\\\\Img\\\\output\""
   ]
  },
  {
   "cell_type": "code",
   "execution_count": null,
   "id": "d4d59e3f",
   "metadata": {},
   "outputs": [],
   "source": [
    "# Loop through all .tif files in input_dir\n",
    "for file in os.listdir(input_dir):\n",
    "    if file.endswith('.TIF') or file.endswith('.tif'):\n",
    "        # Create a directory for each tiff file in out_dir_allfiles\n",
    "        base_filename = os.path.splitext(file)[0]\n",
    "        output_dir = os.path.join(out_dir_allfiles, f\"{base_filename}_tiles\")\n",
    "        os.makedirs(output_dir, exist_ok=True)\n",
    "        \n",
    "        # Call the custom function to generate tiles and PNGs\n",
    "        split_geotiff_with_padding(input_dir, file, output_dir)"
   ]
  },
  {
   "cell_type": "markdown",
   "id": "e3559be4",
   "metadata": {},
   "source": [
    "## 2.2. Filtering the tiles"
   ]
  },
  {
   "cell_type": "markdown",
   "id": "26f030ca",
   "metadata": {},
   "source": [
    "As some tiles may include heavily clouded sectors or dark sectors, they must be excluded from the pool"
   ]
  },
  {
   "cell_type": "code",
   "execution_count": null,
   "id": "d5eb84ae",
   "metadata": {},
   "outputs": [],
   "source": [
    "# TODO: Filter the tiles"
   ]
  }
 ],
 "metadata": {
  "kernelspec": {
   "display_name": "tesis_remotesensing_egpu",
   "language": "python",
   "name": "python3"
  },
  "language_info": {
   "codemirror_mode": {
    "name": "ipython",
    "version": 3
   },
   "file_extension": ".py",
   "mimetype": "text/x-python",
   "name": "python",
   "nbconvert_exporter": "python",
   "pygments_lexer": "ipython3",
   "version": "3.9.16"
  }
 },
 "nbformat": 4,
 "nbformat_minor": 5
}
