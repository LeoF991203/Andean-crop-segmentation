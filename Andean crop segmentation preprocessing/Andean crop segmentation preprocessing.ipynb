{
 "cells": [
  {
   "cell_type": "markdown",
   "id": "d6b81172",
   "metadata": {},
   "source": [
    "# 1. Imports and setup"
   ]
  },
  {
   "cell_type": "code",
   "execution_count": 1,
   "id": "47d8878c",
   "metadata": {},
   "outputs": [
    {
     "data": {
      "text/plain": [
       "<torch._C.Generator at 0x233ce40f3f0>"
      ]
     },
     "execution_count": 1,
     "metadata": {},
     "output_type": "execute_result"
    }
   ],
   "source": [
    "#Import libraries\n",
    "\n",
    "import matplotlib.pyplot as plt\n",
    "import rasterio\n",
    "from rasterio import plot\n",
    "from rasterio.plot import show\n",
    "from rasterio.windows import Window\n",
    "from rasterio.transform import Affine\n",
    "from PIL import Image\n",
    "import numpy as np\n",
    "import os\n",
    "import torch\n",
    "import torch.nn as nn\n",
    "\n",
    "torch.random.manual_seed(0)"
   ]
  },
  {
   "cell_type": "code",
   "execution_count": 2,
   "id": "e836bd9e",
   "metadata": {},
   "outputs": [
    {
     "name": "stdout",
     "output_type": "stream",
     "text": [
      "Mon May 12 18:05:02 2025       \n",
      "+---------------------------------------------------------------------------------------+\n",
      "| NVIDIA-SMI 546.80                 Driver Version: 546.80       CUDA Version: 12.3     |\n",
      "|-----------------------------------------+----------------------+----------------------+\n",
      "| GPU  Name                     TCC/WDDM  | Bus-Id        Disp.A | Volatile Uncorr. ECC |\n",
      "| Fan  Temp   Perf          Pwr:Usage/Cap |         Memory-Usage | GPU-Util  Compute M. |\n",
      "|                                         |                      |               MIG M. |\n",
      "|=========================================+======================+======================|\n",
      "|   0  NVIDIA GeForce RTX 3080 ...  WDDM  | 00000000:01:00.0 Off |                  N/A |\n",
      "| N/A   52C    P8              11W / 120W |      0MiB / 16384MiB |      0%      Default |\n",
      "|                                         |                      |                  N/A |\n",
      "+-----------------------------------------+----------------------+----------------------+\n",
      "                                                                                         \n",
      "+---------------------------------------------------------------------------------------+\n",
      "| Processes:                                                                            |\n",
      "|  GPU   GI   CI        PID   Type   Process name                            GPU Memory |\n",
      "|        ID   ID                                                             Usage      |\n",
      "|=======================================================================================|\n",
      "|  No running processes found                                                           |\n",
      "+---------------------------------------------------------------------------------------+\n"
     ]
    }
   ],
   "source": [
    "!nvidia-smi"
   ]
  },
  {
   "cell_type": "markdown",
   "id": "8e6841e8",
   "metadata": {},
   "source": [
    "# 2. Preprocessing of images"
   ]
  },
  {
   "cell_type": "code",
   "execution_count": 3,
   "id": "ae4afc33",
   "metadata": {},
   "outputs": [],
   "source": [
    "inputDir = \"C:\\\\Users\\\\Leonardo\\\\Documents\\\\Tesis\\\\Tesis2\\\\Imagenes\\\\Img\\\\input\"\n",
    "mainOutput = \"C:\\\\Users\\\\Leonardo\\\\Documents\\\\Tesis\\\\Tesis2\\\\Imagenes\\\\Img\\\\output\"\n",
    "outNonDark = \"C:\\\\Users\\\\Leonardo\\\\Documents\\\\Tesis\\\\Tesis2\\\\Imagenes\\\\Img\\\\NonDarkSplits\"\n",
    "outNonCloudy = \"C:\\\\Users\\\\Leonardo\\\\Documents\\\\Tesis\\\\Tesis2\\\\Imagenes\\\\Img\\\\NonCloudySplits\""
   ]
  },
  {
   "cell_type": "markdown",
   "id": "8be24d63",
   "metadata": {},
   "source": [
    "## 2.1. Cropping the splits"
   ]
  },
  {
   "cell_type": "markdown",
   "id": "f4b7f244",
   "metadata": {},
   "source": [
    "Geotiff images will be split in 512 by 512 tiles and PNGs"
   ]
  },
  {
   "cell_type": "code",
   "execution_count": 4,
   "id": "6c5bd774",
   "metadata": {},
   "outputs": [],
   "source": [
    "def pad_array(array, target_height, target_width):\n",
    "    bands, height, width = array.shape\n",
    "    padded = np.zeros((bands, target_height, target_width), dtype=array.dtype)\n",
    "    padded[:, :height, :width] = array\n",
    "    return padded\n",
    "\n",
    "def normalize(rgb, clip_min=0, clip_max=3000):\n",
    "    # Normalize each band individually\n",
    "    rgb = np.clip(rgb, clip_min, clip_max)\n",
    "    rgb = (rgb - clip_min) / (clip_max - clip_min)\n",
    "    rgb = (rgb * 255).astype(np.uint8)\n",
    "    return rgb\n",
    "\n",
    "def split_geotiff_with_padding(input_dir, filename, output_dir, tile_size=512):\n",
    "    os.makedirs(output_dir, exist_ok=True)\n",
    "    png_dir = os.path.join(output_dir, \"png\")\n",
    "    os.makedirs(png_dir, exist_ok=True)\n",
    "    input_path = os.path.join(input_dir, filename)\n",
    "\n",
    "    with rasterio.open(input_path) as src:\n",
    "        width, height = src.width, src.height\n",
    "        profile = src.profile\n",
    "\n",
    "        for i in range(0, height, tile_size):\n",
    "            for j in range(0, width, tile_size):\n",
    "                window_height = min(tile_size, height - i)\n",
    "                window_width = min(tile_size, width - j)\n",
    "                window = Window(j, i, window_width, window_height)\n",
    "                transform = src.window_transform(window)\n",
    "                tile = src.read(window=window)\n",
    "\n",
    "                if window_height < tile_size or window_width < tile_size:\n",
    "                    tile = pad_array(tile, tile_size, tile_size)\n",
    "\n",
    "                tile_profile = profile.copy()\n",
    "                tile_profile.update({\n",
    "                    'height': tile_size,\n",
    "                    'width': tile_size,\n",
    "                    'transform': transform\n",
    "                })\n",
    "\n",
    "                base_filename = os.path.splitext(filename)[0]\n",
    "                tile_filename = f\"{base_filename}_tile_{i // tile_size}_{j // tile_size}_p.tif\"\n",
    "                tile_path = os.path.join(output_dir, tile_filename)\n",
    "\n",
    "                with rasterio.open(tile_path, 'w', **tile_profile) as dst:\n",
    "                    dst.write(tile)\n",
    "\n",
    "                # Generate PNG RGB\n",
    "                if tile.shape[0] >= 3:\n",
    "                    rgb = tile[:3]\n",
    "                    rgb = normalize(rgb)\n",
    "                    rgb = np.transpose(rgb, (1, 2, 0))  # Reorder to (H, W, Bands)\n",
    "                    png_filename = f\"{base_filename}_tile_{i//tile_size}_{j//tile_size}.png\"\n",
    "                    png_path = os.path.join(png_dir, png_filename)\n",
    "                    Image.fromarray(rgb).save(png_path)\n"
   ]
  },
  {
   "cell_type": "code",
   "execution_count": null,
   "id": "d4d59e3f",
   "metadata": {},
   "outputs": [],
   "source": [
    "# Loop through all .tif files in input_dir\n",
    "for file in os.listdir(inputDir):\n",
    "    if file.endswith('.TIF') or file.endswith('.tif'):\n",
    "        # Create a directory for each tiff file in mainOutput\n",
    "        base_filename = os.path.splitext(file)[0]\n",
    "        output_dir = os.path.join(mainOutput, f\"{base_filename}_tiles\")\n",
    "        os.makedirs(output_dir, exist_ok=True)\n",
    "        \n",
    "        # Call the custom function to generate tiles and PNGs\n",
    "        split_geotiff_with_padding(inputDir, file, output_dir)"
   ]
  },
  {
   "cell_type": "markdown",
   "id": "e3559be4",
   "metadata": {},
   "source": [
    "## 2.2. Filtering the tiles"
   ]
  },
  {
   "cell_type": "markdown",
   "id": "26f030ca",
   "metadata": {},
   "source": [
    "As some tiles may include heavily clouded sectors or dark sectors, they must be excluded from the pool"
   ]
  },
  {
   "cell_type": "code",
   "execution_count": 5,
   "id": "d5eb84ae",
   "metadata": {},
   "outputs": [],
   "source": [
    "#Function to filter the dark tiles\n",
    "def is_nondark_tile(tile_path, dark_threshold=5, dark_ratio=0.3):\n",
    "    \"\"\"\n",
    "    Determine if a tile is valid based on brightness and darkness thresholds.\n",
    "\n",
    "    Parameters:\n",
    "    - tile_path: Path to the GeoTIFF tile.\n",
    "    - bright_threshold: Pixel value above which a pixel is considered bright.\n",
    "    - dark_threshold: Pixel value below which a pixel is considered dark.\n",
    "    - bright_ratio: Maximum allowed ratio of bright pixels.\n",
    "    - dark_ratio: Maximum allowed ratio of dark pixels.\n",
    "\n",
    "    Returns:\n",
    "    - True if the tile is valid; False otherwise.\n",
    "    \"\"\"\n",
    "    with rasterio.open(tile_path) as src:\n",
    "        data = src.read()\n",
    "        # Compute mean pixel value across all bands\n",
    "        mean_pixel = np.mean(data, axis=0)\n",
    "        total_pixels = mean_pixel.size\n",
    "        # Calculate the fraction of dark pixels\n",
    "        dark_pixels = np.sum(mean_pixel < dark_threshold)\n",
    "        dark_fraction = dark_pixels / total_pixels\n",
    "        # Determine validity based on threshold\n",
    "        if dark_fraction > dark_ratio:\n",
    "            return False\n",
    "        return True"
   ]
  },
  {
   "cell_type": "code",
   "execution_count": null,
   "id": "f7d4f7a7",
   "metadata": {},
   "outputs": [],
   "source": [
    "for tiledir in os.listdir(mainOutput):\n",
    "    for tile in os.listdir(os.path.join(mainOutput, tiledir)):\n",
    "        if tile.endswith('.TIF') or tile.endswith('.tif'):\n",
    "            tile_path = os.path.join(mainOutput, tiledir, tile)\n",
    "            if is_nondark_tile(tile_path):\n",
    "                if tiledir not in os.listdir(outNonDark):\n",
    "                    os.makedirs(os.path.join(outNonDark, tiledir), exist_ok=True)\n",
    "                # Copy the valid tile to the new directory just created (or existing)\n",
    "                new_tile_path = os.path.join(outNonDark, tiledir)\n",
    "                # copy \"tile\" file to \"new_tile_path\"\n",
    "                os.system(f'copy \"{tile_path}\" \"{new_tile_path}\"')"
   ]
  },
  {
   "cell_type": "code",
   "execution_count": 6,
   "id": "61657cf5",
   "metadata": {},
   "outputs": [],
   "source": [
    "upper_bound_ndvi = 1\n",
    "lower_bound_ndvi = -0.3\n",
    "\n",
    "def load_bands(filepath):\n",
    "    with rasterio.open(filepath) as src:\n",
    "        red = src.read(1).astype(np.float32)\n",
    "        green = src.read(2).astype(np.float32)\n",
    "        blue = src.read(3).astype(np.float32)\n",
    "        nir = src.read(4).astype(np.float32)\n",
    "    return red, green, blue, nir\n",
    "\n",
    "def calculate_ndvi(nir, red):\n",
    "    ndvi = (nir - red) / (nir + red + 1e-6)  # small epsilon to avoid division by zero\n",
    "    ndvi = np.clip(ndvi, lower_bound_ndvi, upper_bound_ndvi)  #limit the values to the range [-1, 1]\n",
    "    return ndvi\n",
    "\n",
    "def detect_clouds(ndvi, threshold=0.1):\n",
    "    cloud_mask = ndvi < threshold\n",
    "    return cloud_mask\n",
    "\n",
    "def cloud_coverage(cloud_mask):\n",
    "    return np.mean(cloud_mask)"
   ]
  },
  {
   "cell_type": "code",
   "execution_count": 20,
   "id": "09da9bb2",
   "metadata": {},
   "outputs": [],
   "source": [
    "cloud_threshold = 0.07\n",
    "coverage_threshold = 0.2\n",
    "for tiledir in os.listdir(outNonDark):\n",
    "    for tile in os.listdir(os.path.join(outNonDark, tiledir)):\n",
    "        if tile.endswith('.TIF') or tile.endswith('.tif'):\n",
    "            tile_path = os.path.join(outNonDark, tiledir, tile)\n",
    "            red, green, blue, nir = load_bands(tile_path)\n",
    "            ndvi = calculate_ndvi(nir, red)\n",
    "            cloud_mask = detect_clouds(ndvi, cloud_threshold)\n",
    "            coverage = cloud_coverage(cloud_mask)\n",
    "            if coverage < coverage_threshold:\n",
    "                if tiledir not in os.listdir(outNonCloudy):\n",
    "                    os.makedirs(os.path.join(outNonCloudy, tiledir), exist_ok=True)\n",
    "                # Copy the valid tile to the new directory just created (or existing)\n",
    "                new_tile_path = os.path.join(outNonCloudy, tiledir)\n",
    "                # copy \"tile\" file to \"new_tile_path\"\n",
    "                os.system(f'copy \"{tile_path}\" \"{new_tile_path}\"')"
   ]
  },
  {
   "cell_type": "markdown",
   "id": "f3871831",
   "metadata": {},
   "source": [
    "## 2.3 Deleting the non RGB or NIR bands from Sentinel-2 tiles"
   ]
  },
  {
   "cell_type": "markdown",
   "id": "9a2e8450",
   "metadata": {},
   "source": [
    "After selecting the tiles to be inserted in the model, we proceed to delete the bands of S2 sat that are not RGB or NIR"
   ]
  },
  {
   "cell_type": "code",
   "execution_count": 7,
   "id": "22fc0093",
   "metadata": {},
   "outputs": [],
   "source": [
    "#path of the selected tiles\n",
    "selectedSplits = \"C:\\\\Users\\\\Leonardo\\\\Documents\\\\Tesis\\\\Tesis2\\\\Imagenes\\\\Img\\\\SelectedSplits\""
   ]
  },
  {
   "cell_type": "code",
   "execution_count": 8,
   "id": "6a5021a2",
   "metadata": {},
   "outputs": [],
   "source": [
    "def preserve_first_four_bands_batch(input_dir, output_dir):\n",
    "    # Create output directory if it doesn't exist\n",
    "    os.makedirs(output_dir, exist_ok=True)\n",
    "\n",
    "    # Iterate through all .tif files in the input directory\n",
    "    for filename in os.listdir(input_dir):\n",
    "        if filename.endswith(\".tif\") and filename.startswith(\"S2\"):\n",
    "            input_path = os.path.join(input_dir, filename)\n",
    "            output_path = os.path.join(output_dir, f\"{os.path.splitext(filename)[0]}_f.tif\")\n",
    "\n",
    "            with rasterio.open(input_path) as src:\n",
    "                if src.count < 4:\n",
    "                    continue\n",
    "\n",
    "                # Update metadata\n",
    "                meta = src.meta.copy()\n",
    "                meta.update(count=4)\n",
    "\n",
    "                with rasterio.open(output_path, 'w', **meta) as dst:\n",
    "                    for i in range(1, 5):\n",
    "                        dst.write(src.read(i), i)"
   ]
  },
  {
   "cell_type": "code",
   "execution_count": 13,
   "id": "ff4e8109",
   "metadata": {},
   "outputs": [],
   "source": [
    "# Delete the bands in a loop, traversing the selectedSplits directory\n",
    "# In selectedSplits is a list of directories, each containing the tiles\n",
    "for mainDir in os.listdir(selectedSplits):\n",
    "    if mainDir.startswith(\"S2\"):\n",
    "        for secondDir in os.listdir(os.path.join(selectedSplits, mainDir)):\n",
    "            input_path = os.path.join(selectedSplits, mainDir, \"finalTiles\")\n",
    "            output_path = os.path.join(selectedSplits, mainDir,\"filteredBands\")\n",
    "            preserve_first_four_bands_batch(input_path, output_path)\n",
    "    else:\n",
    "        continue"
   ]
  }
 ],
 "metadata": {
  "kernelspec": {
   "display_name": "tesis_remotesensing_egpu",
   "language": "python",
   "name": "python3"
  },
  "language_info": {
   "codemirror_mode": {
    "name": "ipython",
    "version": 3
   },
   "file_extension": ".py",
   "mimetype": "text/x-python",
   "name": "python",
   "nbconvert_exporter": "python",
   "pygments_lexer": "ipython3",
   "version": "3.9.16"
  }
 },
 "nbformat": 4,
 "nbformat_minor": 5
}
